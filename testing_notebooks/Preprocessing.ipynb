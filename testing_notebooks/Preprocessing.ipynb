{
 "cells": [
  {
   "cell_type": "code",
   "execution_count": 1,
   "id": "278698e8",
   "metadata": {},
   "outputs": [],
   "source": [
    "import numpy as np\n",
    "import pandas as pd\n",
    "import seaborn as sns\n",
    "import matplotlib.pyplot as plt\n",
    "from sklearn import preprocessing\n",
    "from sklearn.model_selection import train_test_split\n",
    "\n",
    "import scipy.stats as stats"
   ]
  },
  {
   "cell_type": "code",
   "execution_count": 2,
   "id": "257043a4",
   "metadata": {
    "scrolled": true
   },
   "outputs": [
    {
     "data": {
      "text/html": [
       "<div>\n",
       "<style scoped>\n",
       "    .dataframe tbody tr th:only-of-type {\n",
       "        vertical-align: middle;\n",
       "    }\n",
       "\n",
       "    .dataframe tbody tr th {\n",
       "        vertical-align: top;\n",
       "    }\n",
       "\n",
       "    .dataframe thead th {\n",
       "        text-align: right;\n",
       "    }\n",
       "</style>\n",
       "<table border=\"1\" class=\"dataframe\">\n",
       "  <thead>\n",
       "    <tr style=\"text-align: right;\">\n",
       "      <th></th>\n",
       "      <th>Location</th>\n",
       "      <th>Date</th>\n",
       "      <th>max_temp</th>\n",
       "      <th>min_temp</th>\n",
       "      <th>Humidity</th>\n",
       "      <th>Rainfall</th>\n",
       "      <th>RainToday</th>\n",
       "      <th>RainTomorrow</th>\n",
       "    </tr>\n",
       "  </thead>\n",
       "  <tbody>\n",
       "    <tr>\n",
       "      <th>0</th>\n",
       "      <td>Buddhanilakantha</td>\n",
       "      <td>2020-01-01</td>\n",
       "      <td>23.200000</td>\n",
       "      <td>4.500000</td>\n",
       "      <td>94.500000</td>\n",
       "      <td>0.000000</td>\n",
       "      <td>0</td>\n",
       "      <td>0</td>\n",
       "    </tr>\n",
       "    <tr>\n",
       "      <th>1</th>\n",
       "      <td>Buddhanilakantha</td>\n",
       "      <td>2020-01-02</td>\n",
       "      <td>20.700000</td>\n",
       "      <td>4.500000</td>\n",
       "      <td>87.300000</td>\n",
       "      <td>0.000000</td>\n",
       "      <td>0</td>\n",
       "      <td>1</td>\n",
       "    </tr>\n",
       "    <tr>\n",
       "      <th>2</th>\n",
       "      <td>Buddhanilakantha</td>\n",
       "      <td>2020-01-03</td>\n",
       "      <td>12.900000</td>\n",
       "      <td>5.300000</td>\n",
       "      <td>82.000000</td>\n",
       "      <td>0.000000</td>\n",
       "      <td>0</td>\n",
       "      <td>1</td>\n",
       "    </tr>\n",
       "    <tr>\n",
       "      <th>3</th>\n",
       "      <td>Buddhanilakantha</td>\n",
       "      <td>2020-01-04</td>\n",
       "      <td>9.600000</td>\n",
       "      <td>8.100000</td>\n",
       "      <td>100.000000</td>\n",
       "      <td>0.000000</td>\n",
       "      <td>0</td>\n",
       "      <td>0</td>\n",
       "    </tr>\n",
       "    <tr>\n",
       "      <th>4</th>\n",
       "      <td>Buddhanilakantha</td>\n",
       "      <td>2020-01-05</td>\n",
       "      <td>19.300000</td>\n",
       "      <td>4.000000</td>\n",
       "      <td>96.900000</td>\n",
       "      <td>17.300000</td>\n",
       "      <td>1</td>\n",
       "      <td>0</td>\n",
       "    </tr>\n",
       "    <tr>\n",
       "      <th>...</th>\n",
       "      <td>...</td>\n",
       "      <td>...</td>\n",
       "      <td>...</td>\n",
       "      <td>...</td>\n",
       "      <td>...</td>\n",
       "      <td>...</td>\n",
       "      <td>...</td>\n",
       "      <td>...</td>\n",
       "    </tr>\n",
       "    <tr>\n",
       "      <th>58909</th>\n",
       "      <td>Panipokhari(Kathmandu)</td>\n",
       "      <td>2015-12-25</td>\n",
       "      <td>19.014497</td>\n",
       "      <td>18.984795</td>\n",
       "      <td>71.004009</td>\n",
       "      <td>0.010054</td>\n",
       "      <td>0</td>\n",
       "      <td>1</td>\n",
       "    </tr>\n",
       "    <tr>\n",
       "      <th>58910</th>\n",
       "      <td>Nagarkot</td>\n",
       "      <td>2017-06-26</td>\n",
       "      <td>19.486647</td>\n",
       "      <td>12.038645</td>\n",
       "      <td>6.996157</td>\n",
       "      <td>0.000000</td>\n",
       "      <td>0</td>\n",
       "      <td>1</td>\n",
       "    </tr>\n",
       "    <tr>\n",
       "      <th>58911</th>\n",
       "      <td>Godavari</td>\n",
       "      <td>2018-09-05</td>\n",
       "      <td>18.511274</td>\n",
       "      <td>3.982489</td>\n",
       "      <td>48.992664</td>\n",
       "      <td>0.005252</td>\n",
       "      <td>1</td>\n",
       "      <td>0</td>\n",
       "    </tr>\n",
       "    <tr>\n",
       "      <th>58912</th>\n",
       "      <td>Godavari</td>\n",
       "      <td>2015-08-24</td>\n",
       "      <td>18.213025</td>\n",
       "      <td>15.998567</td>\n",
       "      <td>81.010678</td>\n",
       "      <td>0.000000</td>\n",
       "      <td>1</td>\n",
       "      <td>0</td>\n",
       "    </tr>\n",
       "    <tr>\n",
       "      <th>58913</th>\n",
       "      <td>Kathmandu Airport</td>\n",
       "      <td>2020-07-01</td>\n",
       "      <td>20.485586</td>\n",
       "      <td>10.026794</td>\n",
       "      <td>63.006876</td>\n",
       "      <td>0.000000</td>\n",
       "      <td>0</td>\n",
       "      <td>0</td>\n",
       "    </tr>\n",
       "  </tbody>\n",
       "</table>\n",
       "<p>58914 rows × 8 columns</p>\n",
       "</div>"
      ],
      "text/plain": [
       "                     Location        Date   max_temp   min_temp    Humidity  \\\n",
       "0            Buddhanilakantha  2020-01-01  23.200000   4.500000   94.500000   \n",
       "1            Buddhanilakantha  2020-01-02  20.700000   4.500000   87.300000   \n",
       "2            Buddhanilakantha  2020-01-03  12.900000   5.300000   82.000000   \n",
       "3            Buddhanilakantha  2020-01-04   9.600000   8.100000  100.000000   \n",
       "4            Buddhanilakantha  2020-01-05  19.300000   4.000000   96.900000   \n",
       "...                       ...         ...        ...        ...         ...   \n",
       "58909  Panipokhari(Kathmandu)  2015-12-25  19.014497  18.984795   71.004009   \n",
       "58910                Nagarkot  2017-06-26  19.486647  12.038645    6.996157   \n",
       "58911                Godavari  2018-09-05  18.511274   3.982489   48.992664   \n",
       "58912                Godavari  2015-08-24  18.213025  15.998567   81.010678   \n",
       "58913       Kathmandu Airport  2020-07-01  20.485586  10.026794   63.006876   \n",
       "\n",
       "        Rainfall  RainToday  RainTomorrow  \n",
       "0       0.000000          0             0  \n",
       "1       0.000000          0             1  \n",
       "2       0.000000          0             1  \n",
       "3       0.000000          0             0  \n",
       "4      17.300000          1             0  \n",
       "...          ...        ...           ...  \n",
       "58909   0.010054          0             1  \n",
       "58910   0.000000          0             1  \n",
       "58911   0.005252          1             0  \n",
       "58912   0.000000          1             0  \n",
       "58913   0.000000          0             0  \n",
       "\n",
       "[58914 rows x 8 columns]"
      ]
     },
     "execution_count": 2,
     "metadata": {},
     "output_type": "execute_result"
    }
   ],
   "source": [
    "df= pd.read_csv(\"new_data1.csv\")\n",
    "pd.set_option(\"display.max_columns\", None)\n",
    "df"
   ]
  },
  {
   "cell_type": "code",
   "execution_count": 3,
   "id": "b6539926",
   "metadata": {},
   "outputs": [
    {
     "name": "stdout",
     "output_type": "stream",
     "text": [
      "Numerical Features Count 6\n",
      "Discrete feature Count 2\n",
      "Continuous feature Count 4\n",
      "Categorical feature Count 2\n"
     ]
    }
   ],
   "source": [
    "numerical_feature = [feature for feature in df.columns if df[feature].dtypes != 'O']\n",
    "discrete_feature=[feature for feature in numerical_feature if len(df[feature].unique())<25]\n",
    "continuous_feature = [feature for feature in numerical_feature if feature not in discrete_feature]\n",
    "categorical_feature = [feature for feature in df.columns if feature not in numerical_feature]\n",
    "print(\"Numerical Features Count {}\".format(len(numerical_feature)))\n",
    "print(\"Discrete feature Count {}\".format(len(discrete_feature)))\n",
    "print(\"Continuous feature Count {}\".format(len(continuous_feature)))\n",
    "print(\"Categorical feature Count {}\".format(len(categorical_feature)))"
   ]
  },
  {
   "cell_type": "code",
   "execution_count": 4,
   "id": "ae3e3c5e",
   "metadata": {},
   "outputs": [
    {
     "data": {
      "text/plain": [
       "Location        0.000000\n",
       "Date            0.381913\n",
       "max_temp        0.000000\n",
       "min_temp        0.000000\n",
       "Humidity        0.000000\n",
       "Rainfall        0.000000\n",
       "RainToday       0.000000\n",
       "RainTomorrow    0.000000\n",
       "dtype: float64"
      ]
     },
     "execution_count": 4,
     "metadata": {},
     "output_type": "execute_result"
    }
   ],
   "source": [
    "df.isnull().sum()*100/len(df)"
   ]
  },
  {
   "cell_type": "code",
   "execution_count": 5,
   "id": "81a0e4ed",
   "metadata": {},
   "outputs": [
    {
     "name": "stdout",
     "output_type": "stream",
     "text": [
      "['max_temp', 'min_temp', 'Humidity', 'Rainfall', 'RainToday', 'RainTomorrow']\n"
     ]
    }
   ],
   "source": [
    "print(numerical_feature)"
   ]
  },
  {
   "cell_type": "code",
   "execution_count": 6,
   "id": "7b253cfb",
   "metadata": {},
   "outputs": [
    {
     "data": {
      "text/html": [
       "<div>\n",
       "<style scoped>\n",
       "    .dataframe tbody tr th:only-of-type {\n",
       "        vertical-align: middle;\n",
       "    }\n",
       "\n",
       "    .dataframe tbody tr th {\n",
       "        vertical-align: top;\n",
       "    }\n",
       "\n",
       "    .dataframe thead th {\n",
       "        text-align: right;\n",
       "    }\n",
       "</style>\n",
       "<table border=\"1\" class=\"dataframe\">\n",
       "  <thead>\n",
       "    <tr style=\"text-align: right;\">\n",
       "      <th></th>\n",
       "      <th>Location</th>\n",
       "      <th>Date</th>\n",
       "      <th>max_temp</th>\n",
       "      <th>min_temp</th>\n",
       "      <th>Humidity</th>\n",
       "      <th>Rainfall</th>\n",
       "      <th>RainToday</th>\n",
       "      <th>RainTomorrow</th>\n",
       "    </tr>\n",
       "  </thead>\n",
       "  <tbody>\n",
       "    <tr>\n",
       "      <th>0</th>\n",
       "      <td>Buddhanilakantha</td>\n",
       "      <td>2020-01-01</td>\n",
       "      <td>23.200000</td>\n",
       "      <td>4.500000</td>\n",
       "      <td>94.500000</td>\n",
       "      <td>0.000000</td>\n",
       "      <td>0</td>\n",
       "      <td>0</td>\n",
       "    </tr>\n",
       "    <tr>\n",
       "      <th>1</th>\n",
       "      <td>Buddhanilakantha</td>\n",
       "      <td>2020-01-02</td>\n",
       "      <td>20.700000</td>\n",
       "      <td>4.500000</td>\n",
       "      <td>87.300000</td>\n",
       "      <td>0.000000</td>\n",
       "      <td>0</td>\n",
       "      <td>1</td>\n",
       "    </tr>\n",
       "    <tr>\n",
       "      <th>2</th>\n",
       "      <td>Buddhanilakantha</td>\n",
       "      <td>2020-01-03</td>\n",
       "      <td>12.900000</td>\n",
       "      <td>5.300000</td>\n",
       "      <td>82.000000</td>\n",
       "      <td>0.000000</td>\n",
       "      <td>0</td>\n",
       "      <td>1</td>\n",
       "    </tr>\n",
       "    <tr>\n",
       "      <th>3</th>\n",
       "      <td>Buddhanilakantha</td>\n",
       "      <td>2020-01-04</td>\n",
       "      <td>9.600000</td>\n",
       "      <td>8.100000</td>\n",
       "      <td>100.000000</td>\n",
       "      <td>0.000000</td>\n",
       "      <td>0</td>\n",
       "      <td>0</td>\n",
       "    </tr>\n",
       "    <tr>\n",
       "      <th>4</th>\n",
       "      <td>Buddhanilakantha</td>\n",
       "      <td>2020-01-05</td>\n",
       "      <td>19.300000</td>\n",
       "      <td>4.000000</td>\n",
       "      <td>96.900000</td>\n",
       "      <td>17.300000</td>\n",
       "      <td>1</td>\n",
       "      <td>0</td>\n",
       "    </tr>\n",
       "    <tr>\n",
       "      <th>...</th>\n",
       "      <td>...</td>\n",
       "      <td>...</td>\n",
       "      <td>...</td>\n",
       "      <td>...</td>\n",
       "      <td>...</td>\n",
       "      <td>...</td>\n",
       "      <td>...</td>\n",
       "      <td>...</td>\n",
       "    </tr>\n",
       "    <tr>\n",
       "      <th>58909</th>\n",
       "      <td>Panipokhari(Kathmandu)</td>\n",
       "      <td>2015-12-25</td>\n",
       "      <td>19.014497</td>\n",
       "      <td>18.984795</td>\n",
       "      <td>71.004009</td>\n",
       "      <td>0.010054</td>\n",
       "      <td>0</td>\n",
       "      <td>1</td>\n",
       "    </tr>\n",
       "    <tr>\n",
       "      <th>58910</th>\n",
       "      <td>Nagarkot</td>\n",
       "      <td>2017-06-26</td>\n",
       "      <td>19.486647</td>\n",
       "      <td>12.038645</td>\n",
       "      <td>6.996157</td>\n",
       "      <td>0.000000</td>\n",
       "      <td>0</td>\n",
       "      <td>1</td>\n",
       "    </tr>\n",
       "    <tr>\n",
       "      <th>58911</th>\n",
       "      <td>Godavari</td>\n",
       "      <td>2018-09-05</td>\n",
       "      <td>18.511274</td>\n",
       "      <td>3.982489</td>\n",
       "      <td>48.992664</td>\n",
       "      <td>0.005252</td>\n",
       "      <td>1</td>\n",
       "      <td>0</td>\n",
       "    </tr>\n",
       "    <tr>\n",
       "      <th>58912</th>\n",
       "      <td>Godavari</td>\n",
       "      <td>2015-08-24</td>\n",
       "      <td>18.213025</td>\n",
       "      <td>15.998567</td>\n",
       "      <td>81.010678</td>\n",
       "      <td>0.000000</td>\n",
       "      <td>1</td>\n",
       "      <td>0</td>\n",
       "    </tr>\n",
       "    <tr>\n",
       "      <th>58913</th>\n",
       "      <td>Kathmandu Airport</td>\n",
       "      <td>2020-07-01</td>\n",
       "      <td>20.485586</td>\n",
       "      <td>10.026794</td>\n",
       "      <td>63.006876</td>\n",
       "      <td>0.000000</td>\n",
       "      <td>0</td>\n",
       "      <td>0</td>\n",
       "    </tr>\n",
       "  </tbody>\n",
       "</table>\n",
       "<p>58914 rows × 8 columns</p>\n",
       "</div>"
      ],
      "text/plain": [
       "                     Location        Date   max_temp   min_temp    Humidity  \\\n",
       "0            Buddhanilakantha  2020-01-01  23.200000   4.500000   94.500000   \n",
       "1            Buddhanilakantha  2020-01-02  20.700000   4.500000   87.300000   \n",
       "2            Buddhanilakantha  2020-01-03  12.900000   5.300000   82.000000   \n",
       "3            Buddhanilakantha  2020-01-04   9.600000   8.100000  100.000000   \n",
       "4            Buddhanilakantha  2020-01-05  19.300000   4.000000   96.900000   \n",
       "...                       ...         ...        ...        ...         ...   \n",
       "58909  Panipokhari(Kathmandu)  2015-12-25  19.014497  18.984795   71.004009   \n",
       "58910                Nagarkot  2017-06-26  19.486647  12.038645    6.996157   \n",
       "58911                Godavari  2018-09-05  18.511274   3.982489   48.992664   \n",
       "58912                Godavari  2015-08-24  18.213025  15.998567   81.010678   \n",
       "58913       Kathmandu Airport  2020-07-01  20.485586  10.026794   63.006876   \n",
       "\n",
       "        Rainfall  RainToday  RainTomorrow  \n",
       "0       0.000000          0             0  \n",
       "1       0.000000          0             1  \n",
       "2       0.000000          0             1  \n",
       "3       0.000000          0             0  \n",
       "4      17.300000          1             0  \n",
       "...          ...        ...           ...  \n",
       "58909   0.010054          0             1  \n",
       "58910   0.000000          0             1  \n",
       "58911   0.005252          1             0  \n",
       "58912   0.000000          1             0  \n",
       "58913   0.000000          0             0  \n",
       "\n",
       "[58914 rows x 8 columns]"
      ]
     },
     "execution_count": 6,
     "metadata": {},
     "output_type": "execute_result"
    }
   ],
   "source": [
    "df"
   ]
  },
  {
   "cell_type": "code",
   "execution_count": 7,
   "id": "6dc78978",
   "metadata": {},
   "outputs": [
    {
     "data": {
      "text/plain": [
       "58689"
      ]
     },
     "execution_count": 7,
     "metadata": {},
     "output_type": "execute_result"
    }
   ],
   "source": [
    "df.value_counts().sum()"
   ]
  },
  {
   "cell_type": "code",
   "execution_count": 8,
   "id": "2c1d64b9",
   "metadata": {},
   "outputs": [
    {
     "data": {
      "text/plain": [
       "(58914, 8)"
      ]
     },
     "execution_count": 8,
     "metadata": {},
     "output_type": "execute_result"
    }
   ],
   "source": [
    "df.shape"
   ]
  },
  {
   "cell_type": "code",
   "execution_count": 9,
   "id": "8047471a",
   "metadata": {},
   "outputs": [
    {
     "data": {
      "text/plain": [
       "<Figure size 2000x2000 with 0 Axes>"
      ]
     },
     "metadata": {},
     "output_type": "display_data"
    },
    {
     "data": {
      "image/png": "[encoded data removed]",
      "text/plain": [
       "<Figure size 480x480 with 2 Axes>"
      ]
     },
     "metadata": {},
     "output_type": "display_data"
    }
   ],
   "source": [
    "\n",
    "\n",
    "# Drop non-numeric columns or impute them with appropriate values\n",
    "df_numeric = df.select_dtypes(include=['number'])\n",
    "\n",
    "# Calculate the correlation matrix\n",
    "corrmat = df_numeric.corr(method='spearman')\n",
    "\n",
    "# Plot the heatmap\n",
    "import matplotlib.pyplot as plt\n",
    "plt.figure(figsize=(20, 20))\n",
    "plt.matshow(corrmat, cmap='viridis')\n",
    "plt.title('Spearman Correlation Heatmap')\n",
    "plt.xticks(range(len(corrmat.columns)), corrmat.columns, rotation=90)\n",
    "plt.yticks(range(len(corrmat.columns)), corrmat.columns)\n",
    "plt.colorbar()\n",
    "plt.show()\n"
   ]
  },
  {
   "cell_type": "code",
   "execution_count": 10,
   "id": "fd26a4e9",
   "metadata": {},
   "outputs": [
    {
     "name": "stderr",
     "output_type": "stream",
     "text": [
      "/tmp/ipykernel_36679/2600242752.py:3: UserWarning: \n",
      "\n",
      "`distplot` is a deprecated function and will be removed in seaborn v0.14.0.\n",
      "\n",
      "Please adapt your code to use either `displot` (a figure-level function with\n",
      "similar flexibility) or `histplot` (an axes-level function for histograms).\n",
      "\n",
      "For a guide to updating your code to use the new functions, please see\n",
      "https://gist.github.com/mwaskom/de44147ed2974457ad6372750bbe5751\n",
      "\n",
      "  sns.distplot(df[feature])\n",
      "/home/sujaldangal/anaconda3/lib/python3.11/site-packages/seaborn/_oldcore.py:1498: FutureWarning: is_categorical_dtype is deprecated and will be removed in a future version. Use isinstance(dtype, CategoricalDtype) instead\n",
      "  if pd.api.types.is_categorical_dtype(vector):\n",
      "/home/sujaldangal/anaconda3/lib/python3.11/site-packages/seaborn/_oldcore.py:1119: FutureWarning: use_inf_as_na option is deprecated and will be removed in a future version. Convert inf values to NaN before operating instead.\n",
      "  with pd.option_context('mode.use_inf_as_na', True):\n"
     ]
    },
    {
     "data": {
      "image/png": "[encoded data removed]",
      "text/plain": [
       "<Figure size 640x480 with 1 Axes>"
      ]
     },
     "metadata": {},
     "output_type": "display_data"
    },
    {
     "data": {
      "text/plain": [
       "<Figure size 1500x1500 with 0 Axes>"
      ]
     },
     "metadata": {},
     "output_type": "display_data"
    },
    {
     "name": "stderr",
     "output_type": "stream",
     "text": [
      "/tmp/ipykernel_36679/2600242752.py:3: UserWarning: \n",
      "\n",
      "`distplot` is a deprecated function and will be removed in seaborn v0.14.0.\n",
      "\n",
      "Please adapt your code to use either `displot` (a figure-level function with\n",
      "similar flexibility) or `histplot` (an axes-level function for histograms).\n",
      "\n",
      "For a guide to updating your code to use the new functions, please see\n",
      "https://gist.github.com/mwaskom/de44147ed2974457ad6372750bbe5751\n",
      "\n",
      "  sns.distplot(df[feature])\n",
      "/home/sujaldangal/anaconda3/lib/python3.11/site-packages/seaborn/_oldcore.py:1498: FutureWarning: is_categorical_dtype is deprecated and will be removed in a future version. Use isinstance(dtype, CategoricalDtype) instead\n",
      "  if pd.api.types.is_categorical_dtype(vector):\n",
      "/home/sujaldangal/anaconda3/lib/python3.11/site-packages/seaborn/_oldcore.py:1119: FutureWarning: use_inf_as_na option is deprecated and will be removed in a future version. Convert inf values to NaN before operating instead.\n",
      "  with pd.option_context('mode.use_inf_as_na', True):\n"
     ]
    },
    {
     "data": {
      "image/png": "[encoded data removed]",
      "text/plain": [
       "<Figure size 640x480 with 1 Axes>"
      ]
     },
     "metadata": {},
     "output_type": "display_data"
    },
    {
     "data": {
      "text/plain": [
       "<Figure size 1500x1500 with 0 Axes>"
      ]
     },
     "metadata": {},
     "output_type": "display_data"
    },
    {
     "name": "stderr",
     "output_type": "stream",
     "text": [
      "/tmp/ipykernel_36679/2600242752.py:3: UserWarning: \n",
      "\n",
      "`distplot` is a deprecated function and will be removed in seaborn v0.14.0.\n",
      "\n",
      "Please adapt your code to use either `displot` (a figure-level function with\n",
      "similar flexibility) or `histplot` (an axes-level function for histograms).\n",
      "\n",
      "For a guide to updating your code to use the new functions, please see\n",
      "https://gist.github.com/mwaskom/de44147ed2974457ad6372750bbe5751\n",
      "\n",
      "  sns.distplot(df[feature])\n",
      "/home/sujaldangal/anaconda3/lib/python3.11/site-packages/seaborn/_oldcore.py:1498: FutureWarning: is_categorical_dtype is deprecated and will be removed in a future version. Use isinstance(dtype, CategoricalDtype) instead\n",
      "  if pd.api.types.is_categorical_dtype(vector):\n",
      "/home/sujaldangal/anaconda3/lib/python3.11/site-packages/seaborn/_oldcore.py:1119: FutureWarning: use_inf_as_na option is deprecated and will be removed in a future version. Convert inf values to NaN before operating instead.\n",
      "  with pd.option_context('mode.use_inf_as_na', True):\n"
     ]
    },
    {
     "data": {
      "image/png": "[encoded data removed]",
      "text/plain": [
       "<Figure size 640x480 with 1 Axes>"
      ]
     },
     "metadata": {},
     "output_type": "display_data"
    },
    {
     "data": {
      "text/plain": [
       "<Figure size 1500x1500 with 0 Axes>"
      ]
     },
     "metadata": {},
     "output_type": "display_data"
    },
    {
     "name": "stderr",
     "output_type": "stream",
     "text": [
      "/tmp/ipykernel_36679/2600242752.py:3: UserWarning: \n",
      "\n",
      "`distplot` is a deprecated function and will be removed in seaborn v0.14.0.\n",
      "\n",
      "Please adapt your code to use either `displot` (a figure-level function with\n",
      "similar flexibility) or `histplot` (an axes-level function for histograms).\n",
      "\n",
      "For a guide to updating your code to use the new functions, please see\n",
      "https://gist.github.com/mwaskom/de44147ed2974457ad6372750bbe5751\n",
      "\n",
      "  sns.distplot(df[feature])\n",
      "/home/sujaldangal/anaconda3/lib/python3.11/site-packages/seaborn/_oldcore.py:1498: FutureWarning: is_categorical_dtype is deprecated and will be removed in a future version. Use isinstance(dtype, CategoricalDtype) instead\n",
      "  if pd.api.types.is_categorical_dtype(vector):\n",
      "/home/sujaldangal/anaconda3/lib/python3.11/site-packages/seaborn/_oldcore.py:1119: FutureWarning: use_inf_as_na option is deprecated and will be removed in a future version. Convert inf values to NaN before operating instead.\n",
      "  with pd.option_context('mode.use_inf_as_na', True):\n"
     ]
    },
    {
     "data": {
      "image/png": "[encoded data removed]",
      "text/plain": [
       "<Figure size 640x480 with 1 Axes>"
      ]
     },
     "metadata": {},
     "output_type": "display_data"
    },
    {
     "data": {
      "text/plain": [
       "<Figure size 1500x1500 with 0 Axes>"
      ]
     },
     "metadata": {},
     "output_type": "display_data"
    }
   ],
   "source": [
    "for feature in continuous_feature:\n",
    "    data=df.copy()\n",
    "    sns.distplot(df[feature])\n",
    "    plt.xlabel(feature)\n",
    "    plt.ylabel(\"Count\")\n",
    "    plt.title(feature)\n",
    "    plt.figure(figsize=(15,15))\n",
    "    plt.show()"
   ]
  },
  {
   "cell_type": "code",
   "execution_count": 11,
   "id": "32e07c59",
   "metadata": {},
   "outputs": [
    {
     "data": {
      "image/png": "[encoded data removed]",
      "text/plain": [
       "<Figure size 640x480 with 1 Axes>"
      ]
     },
     "metadata": {},
     "output_type": "display_data"
    },
    {
     "data": {
      "image/png": "[encoded data removed]",
      "text/plain": [
       "<Figure size 1500x1500 with 1 Axes>"
      ]
     },
     "metadata": {},
     "output_type": "display_data"
    },
    {
     "data": {
      "image/png": "[encoded data removed]",
      "text/plain": [
       "<Figure size 1500x1500 with 1 Axes>"
      ]
     },
     "metadata": {},
     "output_type": "display_data"
    },
    {
     "data": {
      "image/png": "[encoded data removed]",
      "text/plain": [
       "<Figure size 1500x1500 with 1 Axes>"
      ]
     },
     "metadata": {},
     "output_type": "display_data"
    },
    {
     "data": {
      "text/plain": [
       "<Figure size 1500x1500 with 0 Axes>"
      ]
     },
     "metadata": {},
     "output_type": "display_data"
    }
   ],
   "source": [
    "#A for loop is used to plot a boxplot for all the continuous features to see the outliers\n",
    "for feature in continuous_feature:\n",
    "    data=df.copy()\n",
    "    sns.boxplot(data[feature])\n",
    "    plt.title(feature)\n",
    "    plt.figure(figsize=(15,15))"
   ]
  },
  {
   "cell_type": "code",
   "execution_count": 12,
   "id": "2000d6ce",
   "metadata": {},
   "outputs": [],
   "source": [
    "for feature in continuous_feature:\n",
    "    if(df[feature].isnull().sum()*100/len(df))>0:\n",
    "        df[feature] = df[feature].fillna(df[feature].median())"
   ]
  },
  {
   "cell_type": "code",
   "execution_count": 13,
   "id": "f67eee33",
   "metadata": {},
   "outputs": [
    {
     "data": {
      "text/plain": [
       "Location        0.000000\n",
       "Date            0.381913\n",
       "max_temp        0.000000\n",
       "min_temp        0.000000\n",
       "Humidity        0.000000\n",
       "Rainfall        0.000000\n",
       "RainToday       0.000000\n",
       "RainTomorrow    0.000000\n",
       "dtype: float64"
      ]
     },
     "execution_count": 13,
     "metadata": {},
     "output_type": "execute_result"
    }
   ],
   "source": [
    "df.isnull().sum()*100/len(df)"
   ]
  },
  {
   "cell_type": "code",
   "execution_count": 14,
   "id": "6f202c3d",
   "metadata": {},
   "outputs": [
    {
     "data": {
      "text/plain": [
       "['RainToday', 'RainTomorrow']"
      ]
     },
     "execution_count": 14,
     "metadata": {},
     "output_type": "execute_result"
    }
   ],
   "source": [
    "discrete_feature"
   ]
  },
  {
   "cell_type": "code",
   "execution_count": 15,
   "id": "504cc73d",
   "metadata": {},
   "outputs": [
    {
     "data": {
      "text/html": [
       "<div>\n",
       "<style scoped>\n",
       "    .dataframe tbody tr th:only-of-type {\n",
       "        vertical-align: middle;\n",
       "    }\n",
       "\n",
       "    .dataframe tbody tr th {\n",
       "        vertical-align: top;\n",
       "    }\n",
       "\n",
       "    .dataframe thead th {\n",
       "        text-align: right;\n",
       "    }\n",
       "</style>\n",
       "<table border=\"1\" class=\"dataframe\">\n",
       "  <thead>\n",
       "    <tr style=\"text-align: right;\">\n",
       "      <th></th>\n",
       "      <th>Location</th>\n",
       "      <th>Date</th>\n",
       "      <th>max_temp</th>\n",
       "      <th>min_temp</th>\n",
       "      <th>Humidity</th>\n",
       "      <th>Rainfall</th>\n",
       "      <th>RainToday</th>\n",
       "      <th>RainTomorrow</th>\n",
       "    </tr>\n",
       "  </thead>\n",
       "  <tbody>\n",
       "    <tr>\n",
       "      <th>0</th>\n",
       "      <td>Buddhanilakantha</td>\n",
       "      <td>2020-01-01</td>\n",
       "      <td>23.200000</td>\n",
       "      <td>4.500000</td>\n",
       "      <td>94.500000</td>\n",
       "      <td>0.000000</td>\n",
       "      <td>0</td>\n",
       "      <td>0</td>\n",
       "    </tr>\n",
       "    <tr>\n",
       "      <th>1</th>\n",
       "      <td>Buddhanilakantha</td>\n",
       "      <td>2020-01-02</td>\n",
       "      <td>20.700000</td>\n",
       "      <td>4.500000</td>\n",
       "      <td>87.300000</td>\n",
       "      <td>0.000000</td>\n",
       "      <td>0</td>\n",
       "      <td>1</td>\n",
       "    </tr>\n",
       "    <tr>\n",
       "      <th>2</th>\n",
       "      <td>Buddhanilakantha</td>\n",
       "      <td>2020-01-03</td>\n",
       "      <td>12.900000</td>\n",
       "      <td>5.300000</td>\n",
       "      <td>82.000000</td>\n",
       "      <td>0.000000</td>\n",
       "      <td>0</td>\n",
       "      <td>1</td>\n",
       "    </tr>\n",
       "    <tr>\n",
       "      <th>3</th>\n",
       "      <td>Buddhanilakantha</td>\n",
       "      <td>2020-01-04</td>\n",
       "      <td>9.600000</td>\n",
       "      <td>8.100000</td>\n",
       "      <td>100.000000</td>\n",
       "      <td>0.000000</td>\n",
       "      <td>0</td>\n",
       "      <td>0</td>\n",
       "    </tr>\n",
       "    <tr>\n",
       "      <th>4</th>\n",
       "      <td>Buddhanilakantha</td>\n",
       "      <td>2020-01-05</td>\n",
       "      <td>19.300000</td>\n",
       "      <td>4.000000</td>\n",
       "      <td>96.900000</td>\n",
       "      <td>17.300000</td>\n",
       "      <td>1</td>\n",
       "      <td>0</td>\n",
       "    </tr>\n",
       "    <tr>\n",
       "      <th>...</th>\n",
       "      <td>...</td>\n",
       "      <td>...</td>\n",
       "      <td>...</td>\n",
       "      <td>...</td>\n",
       "      <td>...</td>\n",
       "      <td>...</td>\n",
       "      <td>...</td>\n",
       "      <td>...</td>\n",
       "    </tr>\n",
       "    <tr>\n",
       "      <th>58909</th>\n",
       "      <td>Panipokhari(Kathmandu)</td>\n",
       "      <td>2015-12-25</td>\n",
       "      <td>19.014497</td>\n",
       "      <td>18.984795</td>\n",
       "      <td>71.004009</td>\n",
       "      <td>0.010054</td>\n",
       "      <td>0</td>\n",
       "      <td>1</td>\n",
       "    </tr>\n",
       "    <tr>\n",
       "      <th>58910</th>\n",
       "      <td>Nagarkot</td>\n",
       "      <td>2017-06-26</td>\n",
       "      <td>19.486647</td>\n",
       "      <td>12.038645</td>\n",
       "      <td>6.996157</td>\n",
       "      <td>0.000000</td>\n",
       "      <td>0</td>\n",
       "      <td>1</td>\n",
       "    </tr>\n",
       "    <tr>\n",
       "      <th>58911</th>\n",
       "      <td>Godavari</td>\n",
       "      <td>2018-09-05</td>\n",
       "      <td>18.511274</td>\n",
       "      <td>3.982489</td>\n",
       "      <td>48.992664</td>\n",
       "      <td>0.005252</td>\n",
       "      <td>1</td>\n",
       "      <td>0</td>\n",
       "    </tr>\n",
       "    <tr>\n",
       "      <th>58912</th>\n",
       "      <td>Godavari</td>\n",
       "      <td>2015-08-24</td>\n",
       "      <td>18.213025</td>\n",
       "      <td>15.998567</td>\n",
       "      <td>81.010678</td>\n",
       "      <td>0.000000</td>\n",
       "      <td>1</td>\n",
       "      <td>0</td>\n",
       "    </tr>\n",
       "    <tr>\n",
       "      <th>58913</th>\n",
       "      <td>Kathmandu Airport</td>\n",
       "      <td>2020-07-01</td>\n",
       "      <td>20.485586</td>\n",
       "      <td>10.026794</td>\n",
       "      <td>63.006876</td>\n",
       "      <td>0.000000</td>\n",
       "      <td>0</td>\n",
       "      <td>0</td>\n",
       "    </tr>\n",
       "  </tbody>\n",
       "</table>\n",
       "<p>58914 rows × 8 columns</p>\n",
       "</div>"
      ],
      "text/plain": [
       "                     Location        Date   max_temp   min_temp    Humidity  \\\n",
       "0            Buddhanilakantha  2020-01-01  23.200000   4.500000   94.500000   \n",
       "1            Buddhanilakantha  2020-01-02  20.700000   4.500000   87.300000   \n",
       "2            Buddhanilakantha  2020-01-03  12.900000   5.300000   82.000000   \n",
       "3            Buddhanilakantha  2020-01-04   9.600000   8.100000  100.000000   \n",
       "4            Buddhanilakantha  2020-01-05  19.300000   4.000000   96.900000   \n",
       "...                       ...         ...        ...        ...         ...   \n",
       "58909  Panipokhari(Kathmandu)  2015-12-25  19.014497  18.984795   71.004009   \n",
       "58910                Nagarkot  2017-06-26  19.486647  12.038645    6.996157   \n",
       "58911                Godavari  2018-09-05  18.511274   3.982489   48.992664   \n",
       "58912                Godavari  2015-08-24  18.213025  15.998567   81.010678   \n",
       "58913       Kathmandu Airport  2020-07-01  20.485586  10.026794   63.006876   \n",
       "\n",
       "        Rainfall  RainToday  RainTomorrow  \n",
       "0       0.000000          0             0  \n",
       "1       0.000000          0             1  \n",
       "2       0.000000          0             1  \n",
       "3       0.000000          0             0  \n",
       "4      17.300000          1             0  \n",
       "...          ...        ...           ...  \n",
       "58909   0.010054          0             1  \n",
       "58910   0.000000          0             1  \n",
       "58911   0.005252          1             0  \n",
       "58912   0.000000          1             0  \n",
       "58913   0.000000          0             0  \n",
       "\n",
       "[58914 rows x 8 columns]"
      ]
     },
     "execution_count": 15,
     "metadata": {},
     "output_type": "execute_result"
    }
   ],
   "source": [
    "df"
   ]
  },
  {
   "cell_type": "code",
   "execution_count": 16,
   "id": "7235565b",
   "metadata": {},
   "outputs": [],
   "source": [
    "X = df.drop('RainTomorrow',axis=1)\n",
    "y = df['RainTomorrow']"
   ]
  },
  {
   "cell_type": "code",
   "execution_count": 17,
   "id": "fa5641e9",
   "metadata": {},
   "outputs": [],
   "source": [
    "from sklearn.preprocessing import LabelEncoder\n"
   ]
  },
  {
   "cell_type": "code",
   "execution_count": 18,
   "id": "ac595539",
   "metadata": {},
   "outputs": [
    {
     "data": {
      "text/html": [
       "<div>\n",
       "<style scoped>\n",
       "    .dataframe tbody tr th:only-of-type {\n",
       "        vertical-align: middle;\n",
       "    }\n",
       "\n",
       "    .dataframe tbody tr th {\n",
       "        vertical-align: top;\n",
       "    }\n",
       "\n",
       "    .dataframe thead th {\n",
       "        text-align: right;\n",
       "    }\n",
       "</style>\n",
       "<table border=\"1\" class=\"dataframe\">\n",
       "  <thead>\n",
       "    <tr style=\"text-align: right;\">\n",
       "      <th></th>\n",
       "      <th>Location</th>\n",
       "      <th>Date</th>\n",
       "      <th>max_temp</th>\n",
       "      <th>min_temp</th>\n",
       "      <th>Humidity</th>\n",
       "      <th>Rainfall</th>\n",
       "      <th>RainToday</th>\n",
       "      <th>RainTomorrow</th>\n",
       "    </tr>\n",
       "  </thead>\n",
       "  <tbody>\n",
       "    <tr>\n",
       "      <th>0</th>\n",
       "      <td>0</td>\n",
       "      <td>2020-01-01</td>\n",
       "      <td>23.200000</td>\n",
       "      <td>4.500000</td>\n",
       "      <td>94.500000</td>\n",
       "      <td>0.000000</td>\n",
       "      <td>0</td>\n",
       "      <td>0</td>\n",
       "    </tr>\n",
       "    <tr>\n",
       "      <th>1</th>\n",
       "      <td>0</td>\n",
       "      <td>2020-01-02</td>\n",
       "      <td>20.700000</td>\n",
       "      <td>4.500000</td>\n",
       "      <td>87.300000</td>\n",
       "      <td>0.000000</td>\n",
       "      <td>0</td>\n",
       "      <td>1</td>\n",
       "    </tr>\n",
       "    <tr>\n",
       "      <th>2</th>\n",
       "      <td>0</td>\n",
       "      <td>2020-01-03</td>\n",
       "      <td>12.900000</td>\n",
       "      <td>5.300000</td>\n",
       "      <td>82.000000</td>\n",
       "      <td>0.000000</td>\n",
       "      <td>0</td>\n",
       "      <td>1</td>\n",
       "    </tr>\n",
       "    <tr>\n",
       "      <th>3</th>\n",
       "      <td>0</td>\n",
       "      <td>2020-01-04</td>\n",
       "      <td>9.600000</td>\n",
       "      <td>8.100000</td>\n",
       "      <td>100.000000</td>\n",
       "      <td>0.000000</td>\n",
       "      <td>0</td>\n",
       "      <td>0</td>\n",
       "    </tr>\n",
       "    <tr>\n",
       "      <th>4</th>\n",
       "      <td>0</td>\n",
       "      <td>2020-01-05</td>\n",
       "      <td>19.300000</td>\n",
       "      <td>4.000000</td>\n",
       "      <td>96.900000</td>\n",
       "      <td>17.300000</td>\n",
       "      <td>1</td>\n",
       "      <td>0</td>\n",
       "    </tr>\n",
       "    <tr>\n",
       "      <th>...</th>\n",
       "      <td>...</td>\n",
       "      <td>...</td>\n",
       "      <td>...</td>\n",
       "      <td>...</td>\n",
       "      <td>...</td>\n",
       "      <td>...</td>\n",
       "      <td>...</td>\n",
       "      <td>...</td>\n",
       "    </tr>\n",
       "    <tr>\n",
       "      <th>58909</th>\n",
       "      <td>4</td>\n",
       "      <td>2015-12-25</td>\n",
       "      <td>19.014497</td>\n",
       "      <td>18.984795</td>\n",
       "      <td>71.004009</td>\n",
       "      <td>0.010054</td>\n",
       "      <td>0</td>\n",
       "      <td>1</td>\n",
       "    </tr>\n",
       "    <tr>\n",
       "      <th>58910</th>\n",
       "      <td>3</td>\n",
       "      <td>2017-06-26</td>\n",
       "      <td>19.486647</td>\n",
       "      <td>12.038645</td>\n",
       "      <td>6.996157</td>\n",
       "      <td>0.000000</td>\n",
       "      <td>0</td>\n",
       "      <td>1</td>\n",
       "    </tr>\n",
       "    <tr>\n",
       "      <th>58911</th>\n",
       "      <td>1</td>\n",
       "      <td>2018-09-05</td>\n",
       "      <td>18.511274</td>\n",
       "      <td>3.982489</td>\n",
       "      <td>48.992664</td>\n",
       "      <td>0.005252</td>\n",
       "      <td>1</td>\n",
       "      <td>0</td>\n",
       "    </tr>\n",
       "    <tr>\n",
       "      <th>58912</th>\n",
       "      <td>1</td>\n",
       "      <td>2015-08-24</td>\n",
       "      <td>18.213025</td>\n",
       "      <td>15.998567</td>\n",
       "      <td>81.010678</td>\n",
       "      <td>0.000000</td>\n",
       "      <td>1</td>\n",
       "      <td>0</td>\n",
       "    </tr>\n",
       "    <tr>\n",
       "      <th>58913</th>\n",
       "      <td>2</td>\n",
       "      <td>2020-07-01</td>\n",
       "      <td>20.485586</td>\n",
       "      <td>10.026794</td>\n",
       "      <td>63.006876</td>\n",
       "      <td>0.000000</td>\n",
       "      <td>0</td>\n",
       "      <td>0</td>\n",
       "    </tr>\n",
       "  </tbody>\n",
       "</table>\n",
       "<p>58914 rows × 8 columns</p>\n",
       "</div>"
      ],
      "text/plain": [
       "       Location        Date   max_temp   min_temp    Humidity   Rainfall  \\\n",
       "0             0  2020-01-01  23.200000   4.500000   94.500000   0.000000   \n",
       "1             0  2020-01-02  20.700000   4.500000   87.300000   0.000000   \n",
       "2             0  2020-01-03  12.900000   5.300000   82.000000   0.000000   \n",
       "3             0  2020-01-04   9.600000   8.100000  100.000000   0.000000   \n",
       "4             0  2020-01-05  19.300000   4.000000   96.900000  17.300000   \n",
       "...         ...         ...        ...        ...         ...        ...   \n",
       "58909         4  2015-12-25  19.014497  18.984795   71.004009   0.010054   \n",
       "58910         3  2017-06-26  19.486647  12.038645    6.996157   0.000000   \n",
       "58911         1  2018-09-05  18.511274   3.982489   48.992664   0.005252   \n",
       "58912         1  2015-08-24  18.213025  15.998567   81.010678   0.000000   \n",
       "58913         2  2020-07-01  20.485586  10.026794   63.006876   0.000000   \n",
       "\n",
       "       RainToday  RainTomorrow  \n",
       "0              0             0  \n",
       "1              0             1  \n",
       "2              0             1  \n",
       "3              0             0  \n",
       "4              1             0  \n",
       "...          ...           ...  \n",
       "58909          0             1  \n",
       "58910          0             1  \n",
       "58911          1             0  \n",
       "58912          1             0  \n",
       "58913          0             0  \n",
       "\n",
       "[58914 rows x 8 columns]"
      ]
     },
     "execution_count": 18,
     "metadata": {},
     "output_type": "execute_result"
    }
   ],
   "source": [
    "label_encoder = LabelEncoder()\n",
    "df['Location'] = label_encoder.fit_transform(df['Location'])\n",
    "df"
   ]
  },
  {
   "cell_type": "code",
   "execution_count": 19,
   "id": "1c96386a",
   "metadata": {
    "scrolled": true
   },
   "outputs": [
    {
     "data": {
      "text/html": [
       "<div>\n",
       "<style scoped>\n",
       "    .dataframe tbody tr th:only-of-type {\n",
       "        vertical-align: middle;\n",
       "    }\n",
       "\n",
       "    .dataframe tbody tr th {\n",
       "        vertical-align: top;\n",
       "    }\n",
       "\n",
       "    .dataframe thead th {\n",
       "        text-align: right;\n",
       "    }\n",
       "</style>\n",
       "<table border=\"1\" class=\"dataframe\">\n",
       "  <thead>\n",
       "    <tr style=\"text-align: right;\">\n",
       "      <th></th>\n",
       "      <th>Location</th>\n",
       "      <th>Date</th>\n",
       "      <th>max_temp</th>\n",
       "      <th>min_temp</th>\n",
       "      <th>Humidity</th>\n",
       "      <th>Rainfall</th>\n",
       "      <th>RainToday</th>\n",
       "      <th>RainTomorrow</th>\n",
       "    </tr>\n",
       "  </thead>\n",
       "  <tbody>\n",
       "    <tr>\n",
       "      <th>0</th>\n",
       "      <td>0</td>\n",
       "      <td>2020-01-01</td>\n",
       "      <td>23.200000</td>\n",
       "      <td>4.500000</td>\n",
       "      <td>94.500000</td>\n",
       "      <td>0.000000</td>\n",
       "      <td>0</td>\n",
       "      <td>0</td>\n",
       "    </tr>\n",
       "    <tr>\n",
       "      <th>1</th>\n",
       "      <td>0</td>\n",
       "      <td>2020-01-02</td>\n",
       "      <td>20.700000</td>\n",
       "      <td>4.500000</td>\n",
       "      <td>87.300000</td>\n",
       "      <td>0.000000</td>\n",
       "      <td>0</td>\n",
       "      <td>1</td>\n",
       "    </tr>\n",
       "    <tr>\n",
       "      <th>2</th>\n",
       "      <td>0</td>\n",
       "      <td>2020-01-03</td>\n",
       "      <td>12.900000</td>\n",
       "      <td>5.300000</td>\n",
       "      <td>82.000000</td>\n",
       "      <td>0.000000</td>\n",
       "      <td>0</td>\n",
       "      <td>1</td>\n",
       "    </tr>\n",
       "    <tr>\n",
       "      <th>3</th>\n",
       "      <td>0</td>\n",
       "      <td>2020-01-04</td>\n",
       "      <td>9.600000</td>\n",
       "      <td>8.100000</td>\n",
       "      <td>100.000000</td>\n",
       "      <td>0.000000</td>\n",
       "      <td>0</td>\n",
       "      <td>0</td>\n",
       "    </tr>\n",
       "    <tr>\n",
       "      <th>4</th>\n",
       "      <td>0</td>\n",
       "      <td>2020-01-05</td>\n",
       "      <td>19.300000</td>\n",
       "      <td>4.000000</td>\n",
       "      <td>96.900000</td>\n",
       "      <td>17.300000</td>\n",
       "      <td>1</td>\n",
       "      <td>0</td>\n",
       "    </tr>\n",
       "    <tr>\n",
       "      <th>...</th>\n",
       "      <td>...</td>\n",
       "      <td>...</td>\n",
       "      <td>...</td>\n",
       "      <td>...</td>\n",
       "      <td>...</td>\n",
       "      <td>...</td>\n",
       "      <td>...</td>\n",
       "      <td>...</td>\n",
       "    </tr>\n",
       "    <tr>\n",
       "      <th>58909</th>\n",
       "      <td>4</td>\n",
       "      <td>2015-12-25</td>\n",
       "      <td>19.014497</td>\n",
       "      <td>18.984795</td>\n",
       "      <td>71.004009</td>\n",
       "      <td>0.010054</td>\n",
       "      <td>0</td>\n",
       "      <td>1</td>\n",
       "    </tr>\n",
       "    <tr>\n",
       "      <th>58910</th>\n",
       "      <td>3</td>\n",
       "      <td>2017-06-26</td>\n",
       "      <td>19.486647</td>\n",
       "      <td>12.038645</td>\n",
       "      <td>6.996157</td>\n",
       "      <td>0.000000</td>\n",
       "      <td>0</td>\n",
       "      <td>1</td>\n",
       "    </tr>\n",
       "    <tr>\n",
       "      <th>58911</th>\n",
       "      <td>1</td>\n",
       "      <td>2018-09-05</td>\n",
       "      <td>18.511274</td>\n",
       "      <td>3.982489</td>\n",
       "      <td>48.992664</td>\n",
       "      <td>0.005252</td>\n",
       "      <td>1</td>\n",
       "      <td>0</td>\n",
       "    </tr>\n",
       "    <tr>\n",
       "      <th>58912</th>\n",
       "      <td>1</td>\n",
       "      <td>2015-08-24</td>\n",
       "      <td>18.213025</td>\n",
       "      <td>15.998567</td>\n",
       "      <td>81.010678</td>\n",
       "      <td>0.000000</td>\n",
       "      <td>1</td>\n",
       "      <td>0</td>\n",
       "    </tr>\n",
       "    <tr>\n",
       "      <th>58913</th>\n",
       "      <td>2</td>\n",
       "      <td>2020-07-01</td>\n",
       "      <td>20.485586</td>\n",
       "      <td>10.026794</td>\n",
       "      <td>63.006876</td>\n",
       "      <td>0.000000</td>\n",
       "      <td>0</td>\n",
       "      <td>0</td>\n",
       "    </tr>\n",
       "  </tbody>\n",
       "</table>\n",
       "<p>58914 rows × 8 columns</p>\n",
       "</div>"
      ],
      "text/plain": [
       "       Location        Date   max_temp   min_temp    Humidity   Rainfall  \\\n",
       "0             0  2020-01-01  23.200000   4.500000   94.500000   0.000000   \n",
       "1             0  2020-01-02  20.700000   4.500000   87.300000   0.000000   \n",
       "2             0  2020-01-03  12.900000   5.300000   82.000000   0.000000   \n",
       "3             0  2020-01-04   9.600000   8.100000  100.000000   0.000000   \n",
       "4             0  2020-01-05  19.300000   4.000000   96.900000  17.300000   \n",
       "...         ...         ...        ...        ...         ...        ...   \n",
       "58909         4  2015-12-25  19.014497  18.984795   71.004009   0.010054   \n",
       "58910         3  2017-06-26  19.486647  12.038645    6.996157   0.000000   \n",
       "58911         1  2018-09-05  18.511274   3.982489   48.992664   0.005252   \n",
       "58912         1  2015-08-24  18.213025  15.998567   81.010678   0.000000   \n",
       "58913         2  2020-07-01  20.485586  10.026794   63.006876   0.000000   \n",
       "\n",
       "       RainToday  RainTomorrow  \n",
       "0              0             0  \n",
       "1              0             1  \n",
       "2              0             1  \n",
       "3              0             0  \n",
       "4              1             0  \n",
       "...          ...           ...  \n",
       "58909          0             1  \n",
       "58910          0             1  \n",
       "58911          1             0  \n",
       "58912          1             0  \n",
       "58913          0             0  \n",
       "\n",
       "[58914 rows x 8 columns]"
      ]
     },
     "execution_count": 19,
     "metadata": {},
     "output_type": "execute_result"
    }
   ],
   "source": [
    "df"
   ]
  },
  {
   "cell_type": "code",
   "execution_count": 20,
   "id": "f234f909",
   "metadata": {},
   "outputs": [],
   "source": [
    "df['Date'] = pd.to_datetime(df['Date'])\n",
    "\n",
    "# Extract year, month, and day into separate columns\n",
    "df['Year'] = df['Date'].dt.year\n",
    "df['Month'] = df['Date'].dt.month\n",
    "df['Day'] = df['Date'].dt.day"
   ]
  },
  {
   "cell_type": "code",
   "execution_count": 21,
   "id": "9681caa8",
   "metadata": {},
   "outputs": [
    {
     "data": {
      "text/html": [
       "<div>\n",
       "<style scoped>\n",
       "    .dataframe tbody tr th:only-of-type {\n",
       "        vertical-align: middle;\n",
       "    }\n",
       "\n",
       "    .dataframe tbody tr th {\n",
       "        vertical-align: top;\n",
       "    }\n",
       "\n",
       "    .dataframe thead th {\n",
       "        text-align: right;\n",
       "    }\n",
       "</style>\n",
       "<table border=\"1\" class=\"dataframe\">\n",
       "  <thead>\n",
       "    <tr style=\"text-align: right;\">\n",
       "      <th></th>\n",
       "      <th>Location</th>\n",
       "      <th>Date</th>\n",
       "      <th>max_temp</th>\n",
       "      <th>min_temp</th>\n",
       "      <th>Humidity</th>\n",
       "      <th>Rainfall</th>\n",
       "      <th>RainToday</th>\n",
       "      <th>RainTomorrow</th>\n",
       "      <th>Year</th>\n",
       "      <th>Month</th>\n",
       "      <th>Day</th>\n",
       "    </tr>\n",
       "  </thead>\n",
       "  <tbody>\n",
       "    <tr>\n",
       "      <th>0</th>\n",
       "      <td>0</td>\n",
       "      <td>2020-01-01</td>\n",
       "      <td>23.200000</td>\n",
       "      <td>4.500000</td>\n",
       "      <td>94.500000</td>\n",
       "      <td>0.000000</td>\n",
       "      <td>0</td>\n",
       "      <td>0</td>\n",
       "      <td>2020.0</td>\n",
       "      <td>1.0</td>\n",
       "      <td>1.0</td>\n",
       "    </tr>\n",
       "    <tr>\n",
       "      <th>1</th>\n",
       "      <td>0</td>\n",
       "      <td>2020-01-02</td>\n",
       "      <td>20.700000</td>\n",
       "      <td>4.500000</td>\n",
       "      <td>87.300000</td>\n",
       "      <td>0.000000</td>\n",
       "      <td>0</td>\n",
       "      <td>1</td>\n",
       "      <td>2020.0</td>\n",
       "      <td>1.0</td>\n",
       "      <td>2.0</td>\n",
       "    </tr>\n",
       "    <tr>\n",
       "      <th>2</th>\n",
       "      <td>0</td>\n",
       "      <td>2020-01-03</td>\n",
       "      <td>12.900000</td>\n",
       "      <td>5.300000</td>\n",
       "      <td>82.000000</td>\n",
       "      <td>0.000000</td>\n",
       "      <td>0</td>\n",
       "      <td>1</td>\n",
       "      <td>2020.0</td>\n",
       "      <td>1.0</td>\n",
       "      <td>3.0</td>\n",
       "    </tr>\n",
       "    <tr>\n",
       "      <th>3</th>\n",
       "      <td>0</td>\n",
       "      <td>2020-01-04</td>\n",
       "      <td>9.600000</td>\n",
       "      <td>8.100000</td>\n",
       "      <td>100.000000</td>\n",
       "      <td>0.000000</td>\n",
       "      <td>0</td>\n",
       "      <td>0</td>\n",
       "      <td>2020.0</td>\n",
       "      <td>1.0</td>\n",
       "      <td>4.0</td>\n",
       "    </tr>\n",
       "    <tr>\n",
       "      <th>4</th>\n",
       "      <td>0</td>\n",
       "      <td>2020-01-05</td>\n",
       "      <td>19.300000</td>\n",
       "      <td>4.000000</td>\n",
       "      <td>96.900000</td>\n",
       "      <td>17.300000</td>\n",
       "      <td>1</td>\n",
       "      <td>0</td>\n",
       "      <td>2020.0</td>\n",
       "      <td>1.0</td>\n",
       "      <td>5.0</td>\n",
       "    </tr>\n",
       "    <tr>\n",
       "      <th>...</th>\n",
       "      <td>...</td>\n",
       "      <td>...</td>\n",
       "      <td>...</td>\n",
       "      <td>...</td>\n",
       "      <td>...</td>\n",
       "      <td>...</td>\n",
       "      <td>...</td>\n",
       "      <td>...</td>\n",
       "      <td>...</td>\n",
       "      <td>...</td>\n",
       "      <td>...</td>\n",
       "    </tr>\n",
       "    <tr>\n",
       "      <th>58909</th>\n",
       "      <td>4</td>\n",
       "      <td>2015-12-25</td>\n",
       "      <td>19.014497</td>\n",
       "      <td>18.984795</td>\n",
       "      <td>71.004009</td>\n",
       "      <td>0.010054</td>\n",
       "      <td>0</td>\n",
       "      <td>1</td>\n",
       "      <td>2015.0</td>\n",
       "      <td>12.0</td>\n",
       "      <td>25.0</td>\n",
       "    </tr>\n",
       "    <tr>\n",
       "      <th>58910</th>\n",
       "      <td>3</td>\n",
       "      <td>2017-06-26</td>\n",
       "      <td>19.486647</td>\n",
       "      <td>12.038645</td>\n",
       "      <td>6.996157</td>\n",
       "      <td>0.000000</td>\n",
       "      <td>0</td>\n",
       "      <td>1</td>\n",
       "      <td>2017.0</td>\n",
       "      <td>6.0</td>\n",
       "      <td>26.0</td>\n",
       "    </tr>\n",
       "    <tr>\n",
       "      <th>58911</th>\n",
       "      <td>1</td>\n",
       "      <td>2018-09-05</td>\n",
       "      <td>18.511274</td>\n",
       "      <td>3.982489</td>\n",
       "      <td>48.992664</td>\n",
       "      <td>0.005252</td>\n",
       "      <td>1</td>\n",
       "      <td>0</td>\n",
       "      <td>2018.0</td>\n",
       "      <td>9.0</td>\n",
       "      <td>5.0</td>\n",
       "    </tr>\n",
       "    <tr>\n",
       "      <th>58912</th>\n",
       "      <td>1</td>\n",
       "      <td>2015-08-24</td>\n",
       "      <td>18.213025</td>\n",
       "      <td>15.998567</td>\n",
       "      <td>81.010678</td>\n",
       "      <td>0.000000</td>\n",
       "      <td>1</td>\n",
       "      <td>0</td>\n",
       "      <td>2015.0</td>\n",
       "      <td>8.0</td>\n",
       "      <td>24.0</td>\n",
       "    </tr>\n",
       "    <tr>\n",
       "      <th>58913</th>\n",
       "      <td>2</td>\n",
       "      <td>2020-07-01</td>\n",
       "      <td>20.485586</td>\n",
       "      <td>10.026794</td>\n",
       "      <td>63.006876</td>\n",
       "      <td>0.000000</td>\n",
       "      <td>0</td>\n",
       "      <td>0</td>\n",
       "      <td>2020.0</td>\n",
       "      <td>7.0</td>\n",
       "      <td>1.0</td>\n",
       "    </tr>\n",
       "  </tbody>\n",
       "</table>\n",
       "<p>58914 rows × 11 columns</p>\n",
       "</div>"
      ],
      "text/plain": [
       "       Location       Date   max_temp   min_temp    Humidity   Rainfall  \\\n",
       "0             0 2020-01-01  23.200000   4.500000   94.500000   0.000000   \n",
       "1             0 2020-01-02  20.700000   4.500000   87.300000   0.000000   \n",
       "2             0 2020-01-03  12.900000   5.300000   82.000000   0.000000   \n",
       "3             0 2020-01-04   9.600000   8.100000  100.000000   0.000000   \n",
       "4             0 2020-01-05  19.300000   4.000000   96.900000  17.300000   \n",
       "...         ...        ...        ...        ...         ...        ...   \n",
       "58909         4 2015-12-25  19.014497  18.984795   71.004009   0.010054   \n",
       "58910         3 2017-06-26  19.486647  12.038645    6.996157   0.000000   \n",
       "58911         1 2018-09-05  18.511274   3.982489   48.992664   0.005252   \n",
       "58912         1 2015-08-24  18.213025  15.998567   81.010678   0.000000   \n",
       "58913         2 2020-07-01  20.485586  10.026794   63.006876   0.000000   \n",
       "\n",
       "       RainToday  RainTomorrow    Year  Month   Day  \n",
       "0              0             0  2020.0    1.0   1.0  \n",
       "1              0             1  2020.0    1.0   2.0  \n",
       "2              0             1  2020.0    1.0   3.0  \n",
       "3              0             0  2020.0    1.0   4.0  \n",
       "4              1             0  2020.0    1.0   5.0  \n",
       "...          ...           ...     ...    ...   ...  \n",
       "58909          0             1  2015.0   12.0  25.0  \n",
       "58910          0             1  2017.0    6.0  26.0  \n",
       "58911          1             0  2018.0    9.0   5.0  \n",
       "58912          1             0  2015.0    8.0  24.0  \n",
       "58913          0             0  2020.0    7.0   1.0  \n",
       "\n",
       "[58914 rows x 11 columns]"
      ]
     },
     "execution_count": 21,
     "metadata": {},
     "output_type": "execute_result"
    }
   ],
   "source": [
    "df"
   ]
  },
  {
   "cell_type": "code",
   "execution_count": 22,
   "id": "6cb49de6",
   "metadata": {},
   "outputs": [],
   "source": [
    "df.drop(['Date'],axis=1,inplace=True)"
   ]
  },
  {
   "cell_type": "code",
   "execution_count": 23,
   "id": "fab6a7c8",
   "metadata": {},
   "outputs": [
    {
     "data": {
      "text/html": [
       "<div>\n",
       "<style scoped>\n",
       "    .dataframe tbody tr th:only-of-type {\n",
       "        vertical-align: middle;\n",
       "    }\n",
       "\n",
       "    .dataframe tbody tr th {\n",
       "        vertical-align: top;\n",
       "    }\n",
       "\n",
       "    .dataframe thead th {\n",
       "        text-align: right;\n",
       "    }\n",
       "</style>\n",
       "<table border=\"1\" class=\"dataframe\">\n",
       "  <thead>\n",
       "    <tr style=\"text-align: right;\">\n",
       "      <th></th>\n",
       "      <th>Location</th>\n",
       "      <th>max_temp</th>\n",
       "      <th>min_temp</th>\n",
       "      <th>Humidity</th>\n",
       "      <th>Rainfall</th>\n",
       "      <th>RainToday</th>\n",
       "      <th>RainTomorrow</th>\n",
       "      <th>Year</th>\n",
       "      <th>Month</th>\n",
       "      <th>Day</th>\n",
       "    </tr>\n",
       "  </thead>\n",
       "  <tbody>\n",
       "    <tr>\n",
       "      <th>0</th>\n",
       "      <td>0</td>\n",
       "      <td>23.200000</td>\n",
       "      <td>4.500000</td>\n",
       "      <td>94.500000</td>\n",
       "      <td>0.000000</td>\n",
       "      <td>0</td>\n",
       "      <td>0</td>\n",
       "      <td>2020.0</td>\n",
       "      <td>1.0</td>\n",
       "      <td>1.0</td>\n",
       "    </tr>\n",
       "    <tr>\n",
       "      <th>1</th>\n",
       "      <td>0</td>\n",
       "      <td>20.700000</td>\n",
       "      <td>4.500000</td>\n",
       "      <td>87.300000</td>\n",
       "      <td>0.000000</td>\n",
       "      <td>0</td>\n",
       "      <td>1</td>\n",
       "      <td>2020.0</td>\n",
       "      <td>1.0</td>\n",
       "      <td>2.0</td>\n",
       "    </tr>\n",
       "    <tr>\n",
       "      <th>2</th>\n",
       "      <td>0</td>\n",
       "      <td>12.900000</td>\n",
       "      <td>5.300000</td>\n",
       "      <td>82.000000</td>\n",
       "      <td>0.000000</td>\n",
       "      <td>0</td>\n",
       "      <td>1</td>\n",
       "      <td>2020.0</td>\n",
       "      <td>1.0</td>\n",
       "      <td>3.0</td>\n",
       "    </tr>\n",
       "    <tr>\n",
       "      <th>3</th>\n",
       "      <td>0</td>\n",
       "      <td>9.600000</td>\n",
       "      <td>8.100000</td>\n",
       "      <td>100.000000</td>\n",
       "      <td>0.000000</td>\n",
       "      <td>0</td>\n",
       "      <td>0</td>\n",
       "      <td>2020.0</td>\n",
       "      <td>1.0</td>\n",
       "      <td>4.0</td>\n",
       "    </tr>\n",
       "    <tr>\n",
       "      <th>4</th>\n",
       "      <td>0</td>\n",
       "      <td>19.300000</td>\n",
       "      <td>4.000000</td>\n",
       "      <td>96.900000</td>\n",
       "      <td>17.300000</td>\n",
       "      <td>1</td>\n",
       "      <td>0</td>\n",
       "      <td>2020.0</td>\n",
       "      <td>1.0</td>\n",
       "      <td>5.0</td>\n",
       "    </tr>\n",
       "    <tr>\n",
       "      <th>...</th>\n",
       "      <td>...</td>\n",
       "      <td>...</td>\n",
       "      <td>...</td>\n",
       "      <td>...</td>\n",
       "      <td>...</td>\n",
       "      <td>...</td>\n",
       "      <td>...</td>\n",
       "      <td>...</td>\n",
       "      <td>...</td>\n",
       "      <td>...</td>\n",
       "    </tr>\n",
       "    <tr>\n",
       "      <th>58909</th>\n",
       "      <td>4</td>\n",
       "      <td>19.014497</td>\n",
       "      <td>18.984795</td>\n",
       "      <td>71.004009</td>\n",
       "      <td>0.010054</td>\n",
       "      <td>0</td>\n",
       "      <td>1</td>\n",
       "      <td>2015.0</td>\n",
       "      <td>12.0</td>\n",
       "      <td>25.0</td>\n",
       "    </tr>\n",
       "    <tr>\n",
       "      <th>58910</th>\n",
       "      <td>3</td>\n",
       "      <td>19.486647</td>\n",
       "      <td>12.038645</td>\n",
       "      <td>6.996157</td>\n",
       "      <td>0.000000</td>\n",
       "      <td>0</td>\n",
       "      <td>1</td>\n",
       "      <td>2017.0</td>\n",
       "      <td>6.0</td>\n",
       "      <td>26.0</td>\n",
       "    </tr>\n",
       "    <tr>\n",
       "      <th>58911</th>\n",
       "      <td>1</td>\n",
       "      <td>18.511274</td>\n",
       "      <td>3.982489</td>\n",
       "      <td>48.992664</td>\n",
       "      <td>0.005252</td>\n",
       "      <td>1</td>\n",
       "      <td>0</td>\n",
       "      <td>2018.0</td>\n",
       "      <td>9.0</td>\n",
       "      <td>5.0</td>\n",
       "    </tr>\n",
       "    <tr>\n",
       "      <th>58912</th>\n",
       "      <td>1</td>\n",
       "      <td>18.213025</td>\n",
       "      <td>15.998567</td>\n",
       "      <td>81.010678</td>\n",
       "      <td>0.000000</td>\n",
       "      <td>1</td>\n",
       "      <td>0</td>\n",
       "      <td>2015.0</td>\n",
       "      <td>8.0</td>\n",
       "      <td>24.0</td>\n",
       "    </tr>\n",
       "    <tr>\n",
       "      <th>58913</th>\n",
       "      <td>2</td>\n",
       "      <td>20.485586</td>\n",
       "      <td>10.026794</td>\n",
       "      <td>63.006876</td>\n",
       "      <td>0.000000</td>\n",
       "      <td>0</td>\n",
       "      <td>0</td>\n",
       "      <td>2020.0</td>\n",
       "      <td>7.0</td>\n",
       "      <td>1.0</td>\n",
       "    </tr>\n",
       "  </tbody>\n",
       "</table>\n",
       "<p>58914 rows × 10 columns</p>\n",
       "</div>"
      ],
      "text/plain": [
       "       Location   max_temp   min_temp    Humidity   Rainfall  RainToday  \\\n",
       "0             0  23.200000   4.500000   94.500000   0.000000          0   \n",
       "1             0  20.700000   4.500000   87.300000   0.000000          0   \n",
       "2             0  12.900000   5.300000   82.000000   0.000000          0   \n",
       "3             0   9.600000   8.100000  100.000000   0.000000          0   \n",
       "4             0  19.300000   4.000000   96.900000  17.300000          1   \n",
       "...         ...        ...        ...         ...        ...        ...   \n",
       "58909         4  19.014497  18.984795   71.004009   0.010054          0   \n",
       "58910         3  19.486647  12.038645    6.996157   0.000000          0   \n",
       "58911         1  18.511274   3.982489   48.992664   0.005252          1   \n",
       "58912         1  18.213025  15.998567   81.010678   0.000000          1   \n",
       "58913         2  20.485586  10.026794   63.006876   0.000000          0   \n",
       "\n",
       "       RainTomorrow    Year  Month   Day  \n",
       "0                 0  2020.0    1.0   1.0  \n",
       "1                 1  2020.0    1.0   2.0  \n",
       "2                 1  2020.0    1.0   3.0  \n",
       "3                 0  2020.0    1.0   4.0  \n",
       "4                 0  2020.0    1.0   5.0  \n",
       "...             ...     ...    ...   ...  \n",
       "58909             1  2015.0   12.0  25.0  \n",
       "58910             1  2017.0    6.0  26.0  \n",
       "58911             0  2018.0    9.0   5.0  \n",
       "58912             0  2015.0    8.0  24.0  \n",
       "58913             0  2020.0    7.0   1.0  \n",
       "\n",
       "[58914 rows x 10 columns]"
      ]
     },
     "execution_count": 23,
     "metadata": {},
     "output_type": "execute_result"
    }
   ],
   "source": [
    "df"
   ]
  },
  {
   "cell_type": "code",
   "execution_count": 24,
   "id": "68fec455",
   "metadata": {},
   "outputs": [
    {
     "data": {
      "text/plain": [
       "58914"
      ]
     },
     "execution_count": 24,
     "metadata": {},
     "output_type": "execute_result"
    }
   ],
   "source": [
    "len(df)"
   ]
  },
  {
   "cell_type": "code",
   "execution_count": 25,
   "id": "1653d0cd",
   "metadata": {},
   "outputs": [
    {
     "data": {
      "text/plain": [
       "(58914, 10)"
      ]
     },
     "execution_count": 25,
     "metadata": {},
     "output_type": "execute_result"
    }
   ],
   "source": [
    "df.shape"
   ]
  },
  {
   "cell_type": "code",
   "execution_count": 26,
   "id": "b0f1f3e8",
   "metadata": {},
   "outputs": [
    {
     "name": "stdout",
     "output_type": "stream",
     "text": [
      "   Location  max_temp  min_temp  Humidity  Rainfall  RainToday  RainTomorrow  \\\n",
      "0         0      23.2       4.5      94.5       0.0          0             0   \n",
      "1         0      20.7       4.5      87.3       0.0          0             1   \n",
      "2         0      12.9       5.3      82.0       0.0          0             1   \n",
      "3         0       9.6       8.1     100.0       0.0          0             0   \n",
      "4         0      19.3       4.0      96.9      17.3          1             0   \n",
      "\n",
      "     Year  Month  Day  \n",
      "0  2020.0    1.0  1.0  \n",
      "1  2020.0    1.0  2.0  \n",
      "2  2020.0    1.0  3.0  \n",
      "3  2020.0    1.0  4.0  \n",
      "4  2020.0    1.0  5.0  \n"
     ]
    }
   ],
   "source": [
    "\n",
    "row_limit = 60000\n",
    "\n",
    "# Keep only the first 2000 rows\n",
    "df = df.head(row_limit)\n",
    "\n",
    "# Display the first few rows of the modified dataframe\n",
    "print(df.head())\n"
   ]
  },
  {
   "cell_type": "code",
   "execution_count": 27,
   "id": "1939b32a",
   "metadata": {},
   "outputs": [
    {
     "data": {
      "text/plain": [
       "(58914, 10)"
      ]
     },
     "execution_count": 27,
     "metadata": {},
     "output_type": "execute_result"
    }
   ],
   "source": [
    "df.shape"
   ]
  },
  {
   "cell_type": "code",
   "execution_count": 28,
   "id": "bc5373e5",
   "metadata": {},
   "outputs": [
    {
     "data": {
      "text/plain": [
       "Location        0.000000\n",
       "max_temp        0.000000\n",
       "min_temp        0.000000\n",
       "Humidity        0.000000\n",
       "Rainfall        0.000000\n",
       "RainToday       0.000000\n",
       "RainTomorrow    0.000000\n",
       "Year            0.381913\n",
       "Month           0.381913\n",
       "Day             0.381913\n",
       "dtype: float64"
      ]
     },
     "execution_count": 28,
     "metadata": {},
     "output_type": "execute_result"
    }
   ],
   "source": [
    "df.isnull().sum()*100/len(df)"
   ]
  },
  {
   "cell_type": "code",
   "execution_count": 29,
   "id": "9f7f5929",
   "metadata": {},
   "outputs": [
    {
     "name": "stderr",
     "output_type": "stream",
     "text": [
      "/tmp/ipykernel_36679/2835961537.py:2: FutureWarning: DataFrame.fillna with 'method' is deprecated and will raise in a future version. Use obj.ffill() or obj.bfill() instead.\n",
      "  df[columns_to_fill] = df[columns_to_fill].fillna(method='ffill')\n"
     ]
    }
   ],
   "source": [
    "columns_to_fill = ['Year', 'Month', 'Day']\n",
    "df[columns_to_fill] = df[columns_to_fill].fillna(method='ffill')"
   ]
  },
  {
   "cell_type": "code",
   "execution_count": 30,
   "id": "636471a5",
   "metadata": {},
   "outputs": [
    {
     "data": {
      "text/html": [
       "<div>\n",
       "<style scoped>\n",
       "    .dataframe tbody tr th:only-of-type {\n",
       "        vertical-align: middle;\n",
       "    }\n",
       "\n",
       "    .dataframe tbody tr th {\n",
       "        vertical-align: top;\n",
       "    }\n",
       "\n",
       "    .dataframe thead th {\n",
       "        text-align: right;\n",
       "    }\n",
       "</style>\n",
       "<table border=\"1\" class=\"dataframe\">\n",
       "  <thead>\n",
       "    <tr style=\"text-align: right;\">\n",
       "      <th></th>\n",
       "      <th>Location</th>\n",
       "      <th>max_temp</th>\n",
       "      <th>min_temp</th>\n",
       "      <th>Humidity</th>\n",
       "      <th>Rainfall</th>\n",
       "      <th>RainToday</th>\n",
       "      <th>RainTomorrow</th>\n",
       "      <th>Year</th>\n",
       "      <th>Month</th>\n",
       "      <th>Day</th>\n",
       "    </tr>\n",
       "  </thead>\n",
       "  <tbody>\n",
       "    <tr>\n",
       "      <th>0</th>\n",
       "      <td>0</td>\n",
       "      <td>23.200000</td>\n",
       "      <td>4.500000</td>\n",
       "      <td>94.500000</td>\n",
       "      <td>0.000000</td>\n",
       "      <td>0</td>\n",
       "      <td>0</td>\n",
       "      <td>2020.0</td>\n",
       "      <td>1.0</td>\n",
       "      <td>1.0</td>\n",
       "    </tr>\n",
       "    <tr>\n",
       "      <th>1</th>\n",
       "      <td>0</td>\n",
       "      <td>20.700000</td>\n",
       "      <td>4.500000</td>\n",
       "      <td>87.300000</td>\n",
       "      <td>0.000000</td>\n",
       "      <td>0</td>\n",
       "      <td>1</td>\n",
       "      <td>2020.0</td>\n",
       "      <td>1.0</td>\n",
       "      <td>2.0</td>\n",
       "    </tr>\n",
       "    <tr>\n",
       "      <th>2</th>\n",
       "      <td>0</td>\n",
       "      <td>12.900000</td>\n",
       "      <td>5.300000</td>\n",
       "      <td>82.000000</td>\n",
       "      <td>0.000000</td>\n",
       "      <td>0</td>\n",
       "      <td>1</td>\n",
       "      <td>2020.0</td>\n",
       "      <td>1.0</td>\n",
       "      <td>3.0</td>\n",
       "    </tr>\n",
       "    <tr>\n",
       "      <th>3</th>\n",
       "      <td>0</td>\n",
       "      <td>9.600000</td>\n",
       "      <td>8.100000</td>\n",
       "      <td>100.000000</td>\n",
       "      <td>0.000000</td>\n",
       "      <td>0</td>\n",
       "      <td>0</td>\n",
       "      <td>2020.0</td>\n",
       "      <td>1.0</td>\n",
       "      <td>4.0</td>\n",
       "    </tr>\n",
       "    <tr>\n",
       "      <th>4</th>\n",
       "      <td>0</td>\n",
       "      <td>19.300000</td>\n",
       "      <td>4.000000</td>\n",
       "      <td>96.900000</td>\n",
       "      <td>17.300000</td>\n",
       "      <td>1</td>\n",
       "      <td>0</td>\n",
       "      <td>2020.0</td>\n",
       "      <td>1.0</td>\n",
       "      <td>5.0</td>\n",
       "    </tr>\n",
       "    <tr>\n",
       "      <th>...</th>\n",
       "      <td>...</td>\n",
       "      <td>...</td>\n",
       "      <td>...</td>\n",
       "      <td>...</td>\n",
       "      <td>...</td>\n",
       "      <td>...</td>\n",
       "      <td>...</td>\n",
       "      <td>...</td>\n",
       "      <td>...</td>\n",
       "      <td>...</td>\n",
       "    </tr>\n",
       "    <tr>\n",
       "      <th>58909</th>\n",
       "      <td>4</td>\n",
       "      <td>19.014497</td>\n",
       "      <td>18.984795</td>\n",
       "      <td>71.004009</td>\n",
       "      <td>0.010054</td>\n",
       "      <td>0</td>\n",
       "      <td>1</td>\n",
       "      <td>2015.0</td>\n",
       "      <td>12.0</td>\n",
       "      <td>25.0</td>\n",
       "    </tr>\n",
       "    <tr>\n",
       "      <th>58910</th>\n",
       "      <td>3</td>\n",
       "      <td>19.486647</td>\n",
       "      <td>12.038645</td>\n",
       "      <td>6.996157</td>\n",
       "      <td>0.000000</td>\n",
       "      <td>0</td>\n",
       "      <td>1</td>\n",
       "      <td>2017.0</td>\n",
       "      <td>6.0</td>\n",
       "      <td>26.0</td>\n",
       "    </tr>\n",
       "    <tr>\n",
       "      <th>58911</th>\n",
       "      <td>1</td>\n",
       "      <td>18.511274</td>\n",
       "      <td>3.982489</td>\n",
       "      <td>48.992664</td>\n",
       "      <td>0.005252</td>\n",
       "      <td>1</td>\n",
       "      <td>0</td>\n",
       "      <td>2018.0</td>\n",
       "      <td>9.0</td>\n",
       "      <td>5.0</td>\n",
       "    </tr>\n",
       "    <tr>\n",
       "      <th>58912</th>\n",
       "      <td>1</td>\n",
       "      <td>18.213025</td>\n",
       "      <td>15.998567</td>\n",
       "      <td>81.010678</td>\n",
       "      <td>0.000000</td>\n",
       "      <td>1</td>\n",
       "      <td>0</td>\n",
       "      <td>2015.0</td>\n",
       "      <td>8.0</td>\n",
       "      <td>24.0</td>\n",
       "    </tr>\n",
       "    <tr>\n",
       "      <th>58913</th>\n",
       "      <td>2</td>\n",
       "      <td>20.485586</td>\n",
       "      <td>10.026794</td>\n",
       "      <td>63.006876</td>\n",
       "      <td>0.000000</td>\n",
       "      <td>0</td>\n",
       "      <td>0</td>\n",
       "      <td>2020.0</td>\n",
       "      <td>7.0</td>\n",
       "      <td>1.0</td>\n",
       "    </tr>\n",
       "  </tbody>\n",
       "</table>\n",
       "<p>58914 rows × 10 columns</p>\n",
       "</div>"
      ],
      "text/plain": [
       "       Location   max_temp   min_temp    Humidity   Rainfall  RainToday  \\\n",
       "0             0  23.200000   4.500000   94.500000   0.000000          0   \n",
       "1             0  20.700000   4.500000   87.300000   0.000000          0   \n",
       "2             0  12.900000   5.300000   82.000000   0.000000          0   \n",
       "3             0   9.600000   8.100000  100.000000   0.000000          0   \n",
       "4             0  19.300000   4.000000   96.900000  17.300000          1   \n",
       "...         ...        ...        ...         ...        ...        ...   \n",
       "58909         4  19.014497  18.984795   71.004009   0.010054          0   \n",
       "58910         3  19.486647  12.038645    6.996157   0.000000          0   \n",
       "58911         1  18.511274   3.982489   48.992664   0.005252          1   \n",
       "58912         1  18.213025  15.998567   81.010678   0.000000          1   \n",
       "58913         2  20.485586  10.026794   63.006876   0.000000          0   \n",
       "\n",
       "       RainTomorrow    Year  Month   Day  \n",
       "0                 0  2020.0    1.0   1.0  \n",
       "1                 1  2020.0    1.0   2.0  \n",
       "2                 1  2020.0    1.0   3.0  \n",
       "3                 0  2020.0    1.0   4.0  \n",
       "4                 0  2020.0    1.0   5.0  \n",
       "...             ...     ...    ...   ...  \n",
       "58909             1  2015.0   12.0  25.0  \n",
       "58910             1  2017.0    6.0  26.0  \n",
       "58911             0  2018.0    9.0   5.0  \n",
       "58912             0  2015.0    8.0  24.0  \n",
       "58913             0  2020.0    7.0   1.0  \n",
       "\n",
       "[58914 rows x 10 columns]"
      ]
     },
     "execution_count": 30,
     "metadata": {},
     "output_type": "execute_result"
    }
   ],
   "source": [
    "df"
   ]
  },
  {
   "cell_type": "code",
   "execution_count": 31,
   "id": "958f39c8",
   "metadata": {},
   "outputs": [
    {
     "data": {
      "text/html": [
       "<div>\n",
       "<style scoped>\n",
       "    .dataframe tbody tr th:only-of-type {\n",
       "        vertical-align: middle;\n",
       "    }\n",
       "\n",
       "    .dataframe tbody tr th {\n",
       "        vertical-align: top;\n",
       "    }\n",
       "\n",
       "    .dataframe thead th {\n",
       "        text-align: right;\n",
       "    }\n",
       "</style>\n",
       "<table border=\"1\" class=\"dataframe\">\n",
       "  <thead>\n",
       "    <tr style=\"text-align: right;\">\n",
       "      <th>RainTomorrow</th>\n",
       "      <th>0</th>\n",
       "      <th>1</th>\n",
       "    </tr>\n",
       "    <tr>\n",
       "      <th>Location</th>\n",
       "      <th></th>\n",
       "      <th></th>\n",
       "    </tr>\n",
       "  </thead>\n",
       "  <tbody>\n",
       "    <tr>\n",
       "      <th>0</th>\n",
       "      <td>1246</td>\n",
       "      <td>1194</td>\n",
       "    </tr>\n",
       "    <tr>\n",
       "      <th>1</th>\n",
       "      <td>7178</td>\n",
       "      <td>6806</td>\n",
       "    </tr>\n",
       "    <tr>\n",
       "      <th>2</th>\n",
       "      <td>6910</td>\n",
       "      <td>6867</td>\n",
       "    </tr>\n",
       "    <tr>\n",
       "      <th>3</th>\n",
       "      <td>7293</td>\n",
       "      <td>7094</td>\n",
       "    </tr>\n",
       "    <tr>\n",
       "      <th>4</th>\n",
       "      <td>6829</td>\n",
       "      <td>7497</td>\n",
       "    </tr>\n",
       "  </tbody>\n",
       "</table>\n",
       "</div>"
      ],
      "text/plain": [
       "RainTomorrow     0     1\n",
       "Location                \n",
       "0             1246  1194\n",
       "1             7178  6806\n",
       "2             6910  6867\n",
       "3             7293  7094\n",
       "4             6829  7497"
      ]
     },
     "execution_count": 31,
     "metadata": {},
     "output_type": "execute_result"
    }
   ],
   "source": [
    "df1 = df.groupby([\"Location\"])[\"RainTomorrow\"].value_counts().sort_values().unstack()\n",
    "df1"
   ]
  },
  {
   "cell_type": "code",
   "execution_count": 32,
   "id": "1bf256e2",
   "metadata": {
    "scrolled": true
   },
   "outputs": [
    {
     "data": {
      "text/plain": [
       "Location        0.0\n",
       "max_temp        0.0\n",
       "min_temp        0.0\n",
       "Humidity        0.0\n",
       "Rainfall        0.0\n",
       "RainToday       0.0\n",
       "RainTomorrow    0.0\n",
       "Year            0.0\n",
       "Month           0.0\n",
       "Day             0.0\n",
       "dtype: float64"
      ]
     },
     "execution_count": 32,
     "metadata": {},
     "output_type": "execute_result"
    }
   ],
   "source": [
    "df.isnull().sum()*100/len(df)"
   ]
  },
  {
   "cell_type": "code",
   "execution_count": 97,
   "id": "e1d95e56",
   "metadata": {},
   "outputs": [],
   "source": [
    "X = df.drop('RainTomorrow',axis=1).to_numpy()\n",
    "y = df['RainTomorrow'].to_numpy()"
   ]
  },
  {
   "cell_type": "code",
   "execution_count": 34,
   "id": "2138c281",
   "metadata": {},
   "outputs": [],
   "source": [
    "# from sklearn.model_selection import train_test_split\n",
    "# X_train, X_test, y_train, y_test = train_test_split(X, y, test_size=0.2, random_state=42)\n",
    "\n",
    "\n",
    "# from sklearn.ensemble import RandomForestClassifier\n",
    "# model = RandomForestClassifier()\n",
    "\n",
    "# model.fit(X_train,y_train)"
   ]
  },
  {
   "cell_type": "code",
   "execution_count": 35,
   "id": "85743520",
   "metadata": {},
   "outputs": [],
   "source": [
    "# model.score(X_test,y_test)"
   ]
  },
  {
   "cell_type": "code",
   "execution_count": 36,
   "id": "a9cc2299",
   "metadata": {},
   "outputs": [],
   "source": [
    "# from sklearn.ensemble import RandomForestClassifier"
   ]
  },
  {
   "cell_type": "code",
   "execution_count": 37,
   "id": "f49055d5",
   "metadata": {},
   "outputs": [],
   "source": [
    "# rf=RandomForestClassifier()\n",
    "# rf.fit(X_train,y_train)"
   ]
  },
  {
   "cell_type": "code",
   "execution_count": 38,
   "id": "b099747a",
   "metadata": {},
   "outputs": [],
   "source": [
    "# from sklearn.metrics import accuracy_score,confusion_matrix,classification_report"
   ]
  },
  {
   "cell_type": "code",
   "execution_count": null,
   "id": "600929c0",
   "metadata": {},
   "outputs": [],
   "source": []
  },
  {
   "cell_type": "code",
   "execution_count": 39,
   "id": "4c5c63e2",
   "metadata": {},
   "outputs": [],
   "source": [
    "# y_pred2 = rf.predict(X_test)\n",
    "# print(confusion_matrix(y_test,y_pred2))\n",
    "# print(accuracy_score(y_test,y_pred2))\n",
    "# print(classification_report(y_test,y_pred2))"
   ]
  },
  {
   "cell_type": "code",
   "execution_count": null,
   "id": "b1e78a08",
   "metadata": {},
   "outputs": [],
   "source": []
  },
  {
   "cell_type": "code",
   "execution_count": null,
   "id": "13fb0cb9",
   "metadata": {},
   "outputs": [],
   "source": []
  },
  {
   "cell_type": "code",
   "execution_count": 3,
   "id": "82520d00",
   "metadata": {},
   "outputs": [
    {
     "ename": "ModuleNotFoundError",
     "evalue": "No module named 'randomforest'",
     "output_type": "error",
     "traceback": [
      "\u001b[0;31m---------------------------------------------------------------------------\u001b[0m",
      "\u001b[0;31mModuleNotFoundError\u001b[0m                       Traceback (most recent call last)",
      "Cell \u001b[0;32mIn[3], line 1\u001b[0m\n\u001b[0;32m----> 1\u001b[0m \u001b[38;5;28;01mfrom\u001b[39;00m \u001b[38;5;21;01mrandomforest\u001b[39;00m\u001b[38;5;21;01m.\u001b[39;00m\u001b[38;5;21;01mDecisionTree\u001b[39;00m \u001b[38;5;28;01mimport\u001b[39;00m DecisionTree\n\u001b[1;32m      2\u001b[0m \u001b[38;5;28;01mfrom\u001b[39;00m \u001b[38;5;21;01mrandomforest\u001b[39;00m\u001b[38;5;21;01m.\u001b[39;00m\u001b[38;5;21;01mRandomForest\u001b[39;00m \u001b[38;5;28;01mimport\u001b[39;00m RandomForest\n",
      "\u001b[0;31mModuleNotFoundError\u001b[0m: No module named 'randomforest'"
     ]
    }
   ],
   "source": [
    "from randomforest.DecisionTree import DecisionTree\n",
    "from randomforest.RandomForest import RandomForest"
   ]
  },
  {
   "cell_type": "code",
   "execution_count": 99,
   "id": "9cc5602a",
   "metadata": {},
   "outputs": [],
   "source": [
    "X_train, X_test, y_train, y_test = train_test_split(X, y, test_size=0.2, random_state=42)"
   ]
  },
  {
   "cell_type": "code",
   "execution_count": 100,
   "id": "8be10077",
   "metadata": {},
   "outputs": [
    {
     "data": {
      "text/plain": [
       "array([[2.00000000e+00, 1.90031580e+01, 5.01518872e+00, ...,\n",
       "        2.01600000e+03, 1.10000000e+01, 2.90000000e+01],\n",
       "       [2.00000000e+00, 1.65823264e+01, 2.23616424e+00, ...,\n",
       "        2.01600000e+03, 5.00000000e+00, 1.00000000e+01],\n",
       "       [2.00000000e+00, 2.05000000e+01, 5.40000000e+00, ...,\n",
       "        2.01700000e+03, 1.20000000e+01, 6.00000000e+00],\n",
       "       ...,\n",
       "       [1.00000000e+00, 2.34000000e+01, 1.15000000e+01, ...,\n",
       "        2.01800000e+03, 3.00000000e+00, 3.00000000e+01],\n",
       "       [3.00000000e+00, 2.30108299e+01, 1.69959479e+01, ...,\n",
       "        2.01900000e+03, 1.00000000e+01, 3.00000000e+01],\n",
       "       [1.00000000e+00, 1.69877190e+01, 6.99353398e+00, ...,\n",
       "        2.01700000e+03, 6.00000000e+00, 1.00000000e+01]])"
      ]
     },
     "execution_count": 100,
     "metadata": {},
     "output_type": "execute_result"
    }
   ],
   "source": [
    "X_train"
   ]
  },
  {
   "cell_type": "code",
   "execution_count": 101,
   "id": "c04d8909",
   "metadata": {},
   "outputs": [
    {
     "data": {
      "text/plain": [
       "array([[2.00000000e+00, 3.80295136e+01, 2.01920075e+01, ...,\n",
       "        2.02000000e+03, 5.00000000e+00, 7.00000000e+00],\n",
       "       [3.00000000e+00, 2.41643759e+01, 6.52216499e+00, ...,\n",
       "        2.02000000e+03, 5.00000000e+00, 3.00000000e+00],\n",
       "       [2.00000000e+00, 2.63078147e+01, 1.70019880e+01, ...,\n",
       "        2.01500000e+03, 8.00000000e+00, 3.00000000e+01],\n",
       "       ...,\n",
       "       [1.00000000e+00, 2.81958182e+01, 1.65043410e+01, ...,\n",
       "        2.01500000e+03, 8.00000000e+00, 2.20000000e+01],\n",
       "       [4.00000000e+00, 2.14814556e+01, 1.45014753e+01, ...,\n",
       "        2.01900000e+03, 1.20000000e+01, 1.40000000e+01],\n",
       "       [3.00000000e+00, 2.97015194e+01, 1.92850719e+01, ...,\n",
       "        2.01600000e+03, 1.10000000e+01, 7.00000000e+00]])"
      ]
     },
     "execution_count": 101,
     "metadata": {},
     "output_type": "execute_result"
    }
   ],
   "source": [
    "X_test"
   ]
  },
  {
   "cell_type": "code",
   "execution_count": 102,
   "id": "829b97af",
   "metadata": {},
   "outputs": [
    {
     "data": {
      "text/plain": [
       "array([1, 1, 1, ..., 0, 1, 1])"
      ]
     },
     "execution_count": 102,
     "metadata": {},
     "output_type": "execute_result"
    }
   ],
   "source": [
    "y_train"
   ]
  },
  {
   "cell_type": "code",
   "execution_count": 103,
   "id": "d06d5c51",
   "metadata": {},
   "outputs": [
    {
     "data": {
      "text/plain": [
       "array([0, 0, 1, ..., 0, 1, 0])"
      ]
     },
     "execution_count": 103,
     "metadata": {},
     "output_type": "execute_result"
    }
   ],
   "source": [
    "y_test"
   ]
  },
  {
   "cell_type": "code",
   "execution_count": null,
   "id": "967b1935",
   "metadata": {},
   "outputs": [],
   "source": []
  },
  {
   "cell_type": "code",
   "execution_count": 108,
   "id": "dbd4f0a5",
   "metadata": {},
   "outputs": [],
   "source": [
    "# %%time\n",
    "# def accuracy(y_true, y_pred):\n",
    "#     accuracy = np.sum(y_true == y_pred) / len(y_true)\n",
    "#     return accuracy\n",
    "\n",
    "# clf = RandomForest(n_trees=20)\n",
    "# clf.fit(X_train, y_train)\n"
   ]
  },
  {
   "cell_type": "code",
   "execution_count": 47,
   "id": "ccab167c",
   "metadata": {
    "scrolled": true
   },
   "outputs": [],
   "source": [
    "# predictions = clf.predict(X_test)\n",
    "\n",
    "# acc =  accuracy(y_test, predictions)\n",
    "# print(acc)\n"
   ]
  },
  {
   "cell_type": "code",
   "execution_count": 48,
   "id": "cb71a321",
   "metadata": {},
   "outputs": [
    {
     "data": {
      "text/plain": [
       "<function print(*args, sep=' ', end='\\n', file=None, flush=False)>"
      ]
     },
     "execution_count": 48,
     "metadata": {},
     "output_type": "execute_result"
    }
   ],
   "source": [
    "print"
   ]
  },
  {
   "cell_type": "code",
   "execution_count": 49,
   "id": "78d78a66",
   "metadata": {},
   "outputs": [],
   "source": [
    "# import joblib\n",
    "\n",
    "# # Assuming 'clf' is your trained model\n",
    "# joblib.dump(clf, 'TrainedModel.pkl')\n"
   ]
  },
  {
   "cell_type": "code",
   "execution_count": 50,
   "id": "9c0cd51c",
   "metadata": {},
   "outputs": [],
   "source": [
    "# df.to_csv(\"output.csv\" , index= False)"
   ]
  },
  {
   "cell_type": "code",
   "execution_count": 51,
   "id": "f1eb5528",
   "metadata": {},
   "outputs": [],
   "source": [
    "# df2 = pd.DataFrame({\n",
    "#                    'actual':y_test,\n",
    "#                   'prediction':predictions})"
   ]
  },
  {
   "cell_type": "code",
   "execution_count": null,
   "id": "c65a301c",
   "metadata": {},
   "outputs": [],
   "source": []
  },
  {
   "cell_type": "code",
   "execution_count": 52,
   "id": "31419694",
   "metadata": {},
   "outputs": [],
   "source": [
    "# # Filter rows where 'label' is equal to 'prediction'\n",
    "# result_df = df2[df2['actual']!=df2['prediction']]\n",
    "\n",
    "# # Display the resulting DataFrame\n",
    "# print(result_df)\n"
   ]
  },
  {
   "cell_type": "code",
   "execution_count": 53,
   "id": "0803cb8a",
   "metadata": {},
   "outputs": [],
   "source": [
    "# matching_indexes = result_df.index"
   ]
  },
  {
   "cell_type": "code",
   "execution_count": 54,
   "id": "cf44d448",
   "metadata": {},
   "outputs": [],
   "source": [
    "# matching_values = df2.loc[matching_indexes]\n"
   ]
  },
  {
   "cell_type": "code",
   "execution_count": 55,
   "id": "ac4b0977",
   "metadata": {},
   "outputs": [],
   "source": [
    "# df = pd.read_csv(\"new_data1.csv\")"
   ]
  },
  {
   "cell_type": "code",
   "execution_count": 56,
   "id": "29c35b2b",
   "metadata": {},
   "outputs": [],
   "source": [
    "# df = df.drop(matching_indexes)"
   ]
  },
  {
   "cell_type": "code",
   "execution_count": 57,
   "id": "e79419c7",
   "metadata": {},
   "outputs": [],
   "source": [
    "# df.to_csv('new_data1.csv',index=False)"
   ]
  },
  {
   "cell_type": "code",
   "execution_count": 104,
   "id": "3fee09f4",
   "metadata": {},
   "outputs": [],
   "source": [
    "import sys"
   ]
  },
  {
   "cell_type": "code",
   "execution_count": 105,
   "id": "80d7b5b2",
   "metadata": {},
   "outputs": [],
   "source": [
    "sys.path.append('/home/sujaldangal/Documents/rainfall project/randomforest')"
   ]
  },
  {
   "cell_type": "code",
   "execution_count": 106,
   "id": "0989781b",
   "metadata": {},
   "outputs": [
    {
     "name": "stdout",
     "output_type": "stream",
     "text": [
      "Accuracy on Test Set: 0.7100908087923279\n"
     ]
    }
   ],
   "source": [
    "import pickle\n",
    "from sklearn.metrics import accuracy_score\n",
    "\n",
    "# Load the saved model from the pickle file\n",
    "with open('TrainedModel.pkl', 'rb') as file:\n",
    "    loaded_model = pickle.load(file)\n",
    "\n",
    "# Assuming X_test is your test set features and y_test is the corresponding labels\n",
    "# Make predictions using the loaded model\n",
    "y_pred = loaded_model.predict(X_test)\n",
    "\n",
    "# Calculate accuracy\n",
    "accuracy = accuracy_score(y_test, y_pred)\n",
    "print(\"Accuracy on Test Set:\", accuracy)"
   ]
  },
  {
   "cell_type": "code",
   "execution_count": null,
   "id": "a120ddee",
   "metadata": {},
   "outputs": [],
   "source": []
  },
  {
   "cell_type": "code",
   "execution_count": null,
   "id": "ce953b54",
   "metadata": {},
   "outputs": [],
   "source": []
  },
  {
   "cell_type": "code",
   "execution_count": null,
   "id": "922a807d",
   "metadata": {},
   "outputs": [],
   "source": []
  },
  {
   "cell_type": "code",
   "execution_count": null,
   "id": "7f4749d8",
   "metadata": {},
   "outputs": [],
   "source": []
  }
 ],
 "metadata": {
  "kernelspec": {
   "display_name": "Python 3 (ipykernel)",
   "language": "python",
   "name": "python3"
  },
  "language_info": {
   "codemirror_mode": {
    "name": "ipython",
    "version": 3
   },
   "file_extension": ".py",
   "mimetype": "text/x-python",
   "name": "python",
   "nbconvert_exporter": "python",
   "pygments_lexer": "ipython3",
   "version": "3.11.4"
  }
 },
 "nbformat": 4,
 "nbformat_minor": 5
}
